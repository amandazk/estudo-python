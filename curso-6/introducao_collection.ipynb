{
 "metadata": {
  "language_info": {
   "codemirror_mode": {
    "name": "ipython",
    "version": 3
   },
   "file_extension": ".py",
   "mimetype": "text/x-python",
   "name": "python",
   "nbconvert_exporter": "python",
   "pygments_lexer": "ipython3",
   "version": "3.9.1"
  },
  "orig_nbformat": 4,
  "kernelspec": {
   "name": "python3",
   "display_name": "Python 3.9.1 64-bit"
  },
  "interpreter": {
   "hash": "3789ce4c8ffd8c8663c5e97641d2be39eb5d0b72366e8e097470db3e1bd1cf2d"
  }
 },
 "nbformat": 4,
 "nbformat_minor": 2,
 "cells": [
  {
   "cell_type": "markdown",
   "source": [
    "# Introdução a Collections"
   ],
   "metadata": {}
  },
  {
   "cell_type": "code",
   "execution_count": 1,
   "source": [
    "idade1 = 32\r\n",
    "idade2 = 45\r\n",
    "idade3 = 21\r\n",
    "idade4 = 15\r\n",
    "\r\n",
    "print(idade1)\r\n",
    "print(idade2)\r\n",
    "print(idade3)\r\n",
    "print(idade4)"
   ],
   "outputs": [
    {
     "output_type": "stream",
     "name": "stdout",
     "text": [
      "32\n",
      "45\n",
      "21\n",
      "15\n"
     ]
    }
   ],
   "metadata": {}
  },
  {
   "cell_type": "code",
   "execution_count": 2,
   "source": [
    "# Lista: implementação de uma ideia de sequência de acesso aleatório\r\n",
    "idades = [32, 45, 21, 14]\r\n",
    "type(idades)"
   ],
   "outputs": [
    {
     "output_type": "execute_result",
     "data": {
      "text/plain": [
       "list"
      ]
     },
     "metadata": {},
     "execution_count": 2
    }
   ],
   "metadata": {}
  },
  {
   "cell_type": "code",
   "execution_count": 3,
   "source": [
    "len(idades)"
   ],
   "outputs": [
    {
     "output_type": "execute_result",
     "data": {
      "text/plain": [
       "4"
      ]
     },
     "metadata": {},
     "execution_count": 3
    }
   ],
   "metadata": {}
  },
  {
   "cell_type": "code",
   "execution_count": 4,
   "source": [
    "idades[2]"
   ],
   "outputs": [
    {
     "output_type": "execute_result",
     "data": {
      "text/plain": [
       "21"
      ]
     },
     "metadata": {},
     "execution_count": 4
    }
   ],
   "metadata": {}
  },
  {
   "cell_type": "code",
   "execution_count": 5,
   "source": [
    "idades"
   ],
   "outputs": [
    {
     "output_type": "execute_result",
     "data": {
      "text/plain": [
       "[32, 45, 21, 14]"
      ]
     },
     "metadata": {},
     "execution_count": 5
    }
   ],
   "metadata": {}
  },
  {
   "cell_type": "code",
   "execution_count": 6,
   "source": [
    "# Adicionar valores no final da lista\r\n",
    "idades.append(10)"
   ],
   "outputs": [],
   "metadata": {}
  },
  {
   "cell_type": "code",
   "execution_count": 7,
   "source": [
    "idades"
   ],
   "outputs": [
    {
     "output_type": "execute_result",
     "data": {
      "text/plain": [
       "[32, 45, 21, 14, 10]"
      ]
     },
     "metadata": {},
     "execution_count": 7
    }
   ],
   "metadata": {}
  },
  {
   "cell_type": "code",
   "execution_count": 8,
   "source": [
    "for idade in idades:\r\n",
    "    print(idade)"
   ],
   "outputs": [
    {
     "output_type": "stream",
     "name": "stdout",
     "text": [
      "32\n",
      "45\n",
      "21\n",
      "14\n",
      "10\n"
     ]
    }
   ],
   "metadata": {}
  },
  {
   "cell_type": "code",
   "execution_count": 9,
   "source": [
    "# Remover um elemento da lista\r\n",
    "idades.remove(45)"
   ],
   "outputs": [],
   "metadata": {}
  },
  {
   "cell_type": "code",
   "execution_count": 10,
   "source": [
    "idades"
   ],
   "outputs": [
    {
     "output_type": "execute_result",
     "data": {
      "text/plain": [
       "[32, 21, 14, 10]"
      ]
     },
     "metadata": {},
     "execution_count": 10
    }
   ],
   "metadata": {}
  },
  {
   "cell_type": "code",
   "execution_count": 11,
   "source": [
    "# Se existem dois elemtenos com o mesmo valor, é removido aquele que aparece primeiro\r\n",
    "idades.append(14)\r\n",
    "idades"
   ],
   "outputs": [
    {
     "output_type": "execute_result",
     "data": {
      "text/plain": [
       "[32, 21, 14, 10, 14]"
      ]
     },
     "metadata": {},
     "execution_count": 11
    }
   ],
   "metadata": {}
  },
  {
   "cell_type": "code",
   "execution_count": 12,
   "source": [
    "idades.remove(14)"
   ],
   "outputs": [],
   "metadata": {}
  },
  {
   "cell_type": "code",
   "execution_count": 13,
   "source": [
    "idades"
   ],
   "outputs": [
    {
     "output_type": "execute_result",
     "data": {
      "text/plain": [
       "[32, 21, 10, 14]"
      ]
     },
     "metadata": {},
     "execution_count": 13
    }
   ],
   "metadata": {}
  },
  {
   "cell_type": "code",
   "execution_count": 14,
   "source": [
    "# Verificar se o elemento está na lista\r\n",
    "32 in idades"
   ],
   "outputs": [
    {
     "output_type": "execute_result",
     "data": {
      "text/plain": [
       "True"
      ]
     },
     "metadata": {},
     "execution_count": 14
    }
   ],
   "metadata": {}
  },
  {
   "cell_type": "code",
   "execution_count": 15,
   "source": [
    "15 in idades"
   ],
   "outputs": [
    {
     "output_type": "execute_result",
     "data": {
      "text/plain": [
       "False"
      ]
     },
     "metadata": {},
     "execution_count": 15
    }
   ],
   "metadata": {}
  },
  {
   "cell_type": "code",
   "execution_count": 16,
   "source": [
    "if 15 in idades:\r\n",
    "    idades.remove(15)"
   ],
   "outputs": [],
   "metadata": {}
  },
  {
   "cell_type": "code",
   "execution_count": 17,
   "source": [
    "if 32 in idades:\r\n",
    "    idades.remove(32)"
   ],
   "outputs": [],
   "metadata": {}
  },
  {
   "cell_type": "code",
   "execution_count": 18,
   "source": [
    "idades"
   ],
   "outputs": [
    {
     "output_type": "execute_result",
     "data": {
      "text/plain": [
       "[21, 10, 14]"
      ]
     },
     "metadata": {},
     "execution_count": 18
    }
   ],
   "metadata": {}
  },
  {
   "cell_type": "code",
   "execution_count": 19,
   "source": [
    "# Inserir um item em uma posição específica\r\n",
    "idades.insert(0, 30)\r\n",
    "idades"
   ],
   "outputs": [
    {
     "output_type": "execute_result",
     "data": {
      "text/plain": [
       "[30, 21, 10, 14]"
      ]
     },
     "metadata": {},
     "execution_count": 19
    }
   ],
   "metadata": {}
  },
  {
   "cell_type": "code",
   "execution_count": 20,
   "source": [
    "# Adicionar vários valores\r\n",
    "idades.extend([19, 54])\r\n",
    "idades"
   ],
   "outputs": [
    {
     "output_type": "execute_result",
     "data": {
      "text/plain": [
       "[30, 21, 10, 14, 19, 54]"
      ]
     },
     "metadata": {},
     "execution_count": 20
    }
   ],
   "metadata": {}
  },
  {
   "cell_type": "code",
   "execution_count": 21,
   "source": [
    "idades_no_ano_que_vem = []\r\n",
    "for idade in idades:\r\n",
    "    idades_no_ano_que_vem.append(idade+1)\r\n",
    "idades_no_ano_que_vem"
   ],
   "outputs": [
    {
     "output_type": "execute_result",
     "data": {
      "text/plain": [
       "[31, 22, 11, 15, 20, 55]"
      ]
     },
     "metadata": {},
     "execution_count": 21
    }
   ],
   "metadata": {}
  },
  {
   "cell_type": "code",
   "execution_count": 22,
   "source": [
    "# Outra sintaxe com a mesma finalidade\r\n",
    "idades_no_ano_que_vem = [(idade+1) for idade in idades]\r\n",
    "idades_no_ano_que_vem"
   ],
   "outputs": [
    {
     "output_type": "execute_result",
     "data": {
      "text/plain": [
       "[31, 22, 11, 15, 20, 55]"
      ]
     },
     "metadata": {},
     "execution_count": 22
    }
   ],
   "metadata": {}
  },
  {
   "cell_type": "code",
   "execution_count": 23,
   "source": [
    "# Filtros\r\n",
    "[(idade) for idade in idades if idade > 21]"
   ],
   "outputs": [
    {
     "output_type": "execute_result",
     "data": {
      "text/plain": [
       "[30, 54]"
      ]
     },
     "metadata": {},
     "execution_count": 23
    }
   ],
   "metadata": {}
  },
  {
   "cell_type": "code",
   "execution_count": 24,
   "source": [
    "def proximo_ano(idade):\r\n",
    "    return idade+1\r\n",
    "\r\n",
    "[proximo_ano(idade) for idade in idades if idade > 21]"
   ],
   "outputs": [
    {
     "output_type": "execute_result",
     "data": {
      "text/plain": [
       "[31, 55]"
      ]
     },
     "metadata": {},
     "execution_count": 24
    }
   ],
   "metadata": {}
  },
  {
   "cell_type": "markdown",
   "source": [
    "## Problemas  da mutabilidade da lista"
   ],
   "metadata": {}
  },
  {
   "cell_type": "code",
   "execution_count": 25,
   "source": [
    "def faz_processamento_de_visualizacao(lista):\r\n",
    "    print(len(lista))"
   ],
   "outputs": [],
   "metadata": {}
  },
  {
   "cell_type": "code",
   "execution_count": 26,
   "source": [
    "idades = [15, 43, 72, 49]\r\n",
    "faz_processamento_de_visualizacao(idades)"
   ],
   "outputs": [
    {
     "output_type": "stream",
     "name": "stdout",
     "text": [
      "4\n"
     ]
    }
   ],
   "metadata": {}
  },
  {
   "cell_type": "code",
   "execution_count": 27,
   "source": [
    "# No momento em que eu paço uma lista, que é um objeto mutável, como parâmetro, eu perco o controle dessa lista"
   ],
   "outputs": [],
   "metadata": {}
  },
  {
   "cell_type": "code",
   "execution_count": 28,
   "source": [
    "def faz_processamento_de_visualizacao(lista = []):\r\n",
    "    print(len(lista))\r\n",
    "    print(lista)\r\n",
    "    lista.append(13)"
   ],
   "outputs": [],
   "metadata": {}
  },
  {
   "cell_type": "code",
   "execution_count": 29,
   "source": [
    "    faz_processamento_de_visualizacao()"
   ],
   "outputs": [
    {
     "output_type": "stream",
     "name": "stdout",
     "text": [
      "0\n",
      "[]\n"
     ]
    }
   ],
   "metadata": {}
  },
  {
   "cell_type": "code",
   "execution_count": 30,
   "source": [
    "    faz_processamento_de_visualizacao()"
   ],
   "outputs": [
    {
     "output_type": "stream",
     "name": "stdout",
     "text": [
      "1\n",
      "[13]\n"
     ]
    }
   ],
   "metadata": {}
  },
  {
   "cell_type": "code",
   "execution_count": 31,
   "source": [
    "    faz_processamento_de_visualizacao()"
   ],
   "outputs": [
    {
     "output_type": "stream",
     "name": "stdout",
     "text": [
      "2\n",
      "[13, 13]\n"
     ]
    }
   ],
   "metadata": {}
  },
  {
   "cell_type": "code",
   "execution_count": 32,
   "source": [
    "# Se eu quisesse manter o valor estável:\r\n",
    "def faz_processamento_de_visualizacao(lista = None):\r\n",
    "    if lista == None:\r\n",
    "        lista = list()\r\n",
    "    print(len(lista))\r\n",
    "    print(lista)\r\n",
    "    lista.append(13)"
   ],
   "outputs": [],
   "metadata": {}
  },
  {
   "cell_type": "code",
   "execution_count": 33,
   "source": [
    "faz_processamento_de_visualizacao()"
   ],
   "outputs": [
    {
     "output_type": "stream",
     "name": "stdout",
     "text": [
      "0\n",
      "[]\n"
     ]
    }
   ],
   "metadata": {}
  },
  {
   "cell_type": "code",
   "execution_count": 34,
   "source": [
    "faz_processamento_de_visualizacao()\r\n"
   ],
   "outputs": [
    {
     "output_type": "stream",
     "name": "stdout",
     "text": [
      "0\n",
      "[]\n"
     ]
    }
   ],
   "metadata": {}
  },
  {
   "cell_type": "markdown",
   "source": [
    "## Listas com objetos de classes nossas"
   ],
   "metadata": {}
  },
  {
   "cell_type": "code",
   "execution_count": 35,
   "source": [
    "class ContaCorrente:\r\n",
    "    def __init__(self, codigo):\r\n",
    "        self.codigo = codigo\r\n",
    "        self.saldo = 0\r\n",
    "\r\n",
    "    def deposita(self, valor):\r\n",
    "        self.saldo += valor\r\n",
    "\r\n",
    "    def __str__(self):\r\n",
    "        return \"[>>Código {} - Saldo {} reais]\".format(self.codigo, self.saldo)"
   ],
   "outputs": [],
   "metadata": {}
  },
  {
   "cell_type": "code",
   "execution_count": 36,
   "source": [
    "conta_amanda = ContaCorrente(11)\r\n",
    "print(conta_amanda)"
   ],
   "outputs": [
    {
     "output_type": "stream",
     "name": "stdout",
     "text": [
      "[>>Código 11 - Saldo 0 reais]\n"
     ]
    }
   ],
   "metadata": {}
  },
  {
   "cell_type": "code",
   "execution_count": 37,
   "source": [
    "conta_amanda.deposita(100)\r\n",
    "print(conta_amanda)"
   ],
   "outputs": [
    {
     "output_type": "stream",
     "name": "stdout",
     "text": [
      "[>>Código 11 - Saldo 100 reais]\n"
     ]
    }
   ],
   "metadata": {}
  },
  {
   "cell_type": "code",
   "execution_count": 38,
   "source": [
    "conta_joao = ContaCorrente(222)\r\n",
    "conta_joao.deposita(1000)\r\n",
    "print(conta_joao)"
   ],
   "outputs": [
    {
     "output_type": "stream",
     "name": "stdout",
     "text": [
      "[>>Código 222 - Saldo 1000 reais]\n"
     ]
    }
   ],
   "metadata": {}
  },
  {
   "cell_type": "code",
   "execution_count": 39,
   "source": [
    "contas = [conta_amanda, conta_joao]\r\n",
    "print(contas)\r\n",
    "# Não chama por padrão o método __str__"
   ],
   "outputs": [
    {
     "output_type": "stream",
     "name": "stdout",
     "text": [
      "[<__main__.ContaCorrente object at 0x00000212513D1070>, <__main__.ContaCorrente object at 0x00000212513D19A0>]\n"
     ]
    }
   ],
   "metadata": {}
  },
  {
   "cell_type": "code",
   "execution_count": 40,
   "source": [
    "for conta in contas:\r\n",
    "    print(conta)"
   ],
   "outputs": [
    {
     "output_type": "stream",
     "name": "stdout",
     "text": [
      "[>>Código 11 - Saldo 100 reais]\n",
      "[>>Código 222 - Saldo 1000 reais]\n"
     ]
    }
   ],
   "metadata": {}
  },
  {
   "cell_type": "code",
   "execution_count": 41,
   "source": [
    "# A conta do João é referenciada pela variável conta_joao\r\n",
    "# No momento que eu crio uma lista onde tenho um array  com a variável, não estou criando objetos novos\r\n",
    "# Só estou referenciando aquele objeto que já existia\r\n",
    "contas = [conta_amanda, conta_joao, conta_amanda]\r\n",
    "print(contas[0])"
   ],
   "outputs": [
    {
     "output_type": "stream",
     "name": "stdout",
     "text": [
      "[>>Código 11 - Saldo 100 reais]\n"
     ]
    }
   ],
   "metadata": {}
  },
  {
   "cell_type": "code",
   "execution_count": 42,
   "source": [
    "print(contas[2])"
   ],
   "outputs": [
    {
     "output_type": "stream",
     "name": "stdout",
     "text": [
      "[>>Código 11 - Saldo 100 reais]\n"
     ]
    }
   ],
   "metadata": {}
  },
  {
   "cell_type": "markdown",
   "source": [
    "## Tuplas, objetos e anemia"
   ],
   "metadata": {}
  },
  {
   "cell_type": "code",
   "execution_count": 43,
   "source": [
    "def deposita_para_todas_as_contas(contas):\r\n",
    "    for conta in contas:\r\n",
    "        conta.deposita(100)\r\n",
    "\r\n",
    "contas = [conta_amanda, conta_joao]\r\n",
    "print(contas[0], contas[1])\r\n",
    "deposita_para_todas_as_contas(contas)\r\n",
    "\r\n",
    "print(contas[0], contas[1])"
   ],
   "outputs": [
    {
     "output_type": "stream",
     "name": "stdout",
     "text": [
      "[>>Código 11 - Saldo 100 reais] [>>Código 222 - Saldo 1000 reais]\n",
      "[>>Código 11 - Saldo 200 reais] [>>Código 222 - Saldo 1100 reais]\n"
     ]
    }
   ],
   "metadata": {}
  },
  {
   "cell_type": "code",
   "execution_count": 44,
   "source": [
    "# Adicionando o número da agência da conta\r\n",
    "contas.insert(0, 76)\r\n",
    "print(contas[0], contas[1], contas[2])"
   ],
   "outputs": [
    {
     "output_type": "stream",
     "name": "stdout",
     "text": [
      "76 [>>Código 11 - Saldo 200 reais] [>>Código 222 - Saldo 1100 reais]\n"
     ]
    }
   ],
   "metadata": {}
  },
  {
   "cell_type": "markdown",
   "source": [
    "Quando queremos trabalhar com posições específicas que verificam coisas diferentes (possivelmente tipos diferentes)  e imutável-> usamos tuplas.\r\n",
    "É comum que quando você tem uma complexidade maior no conjunto de valores, essa tupla vire uma classe."
   ],
   "metadata": {}
  },
  {
   "cell_type": "code",
   "execution_count": 45,
   "source": [
    "amanda = ('Amanda', 24, 1997)\r\n",
    "joao = ('João', 19, 2002)\r\n",
    "# Como é imutável, não possui o método append, por exemplo"
   ],
   "outputs": [],
   "metadata": {}
  },
  {
   "cell_type": "code",
   "execution_count": 46,
   "source": [
    "conta_amanda = (11, 1500)\r\n",
    "conta_amanda[1]"
   ],
   "outputs": [
    {
     "output_type": "execute_result",
     "data": {
      "text/plain": [
       "1500"
      ]
     },
     "metadata": {},
     "execution_count": 46
    }
   ],
   "metadata": {}
  },
  {
   "cell_type": "code",
   "execution_count": 47,
   "source": [
    "# Para alterar o valor na tupla\r\n",
    "def deposita(conta):\r\n",
    "    novo_saldo = conta[1] + 100\r\n",
    "    codigo = conta[0]\r\n",
    "    return (codigo, novo_saldo) # retorno de uma nova tupla"
   ],
   "outputs": [],
   "metadata": {}
  },
  {
   "cell_type": "code",
   "execution_count": 48,
   "source": [
    "deposita(conta_amanda)"
   ],
   "outputs": [
    {
     "output_type": "execute_result",
     "data": {
      "text/plain": [
       "(11, 1600)"
      ]
     },
     "metadata": {},
     "execution_count": 48
    }
   ],
   "metadata": {}
  },
  {
   "cell_type": "code",
   "execution_count": 49,
   "source": [
    "conta_amanda"
   ],
   "outputs": [
    {
     "output_type": "execute_result",
     "data": {
      "text/plain": [
       "(11, 1500)"
      ]
     },
     "metadata": {},
     "execution_count": 49
    }
   ],
   "metadata": {}
  },
  {
   "cell_type": "code",
   "execution_count": 50,
   "source": [
    "conta_amanda = deposita(conta_amanda)\r\n",
    "conta_amanda"
   ],
   "outputs": [
    {
     "output_type": "execute_result",
     "data": {
      "text/plain": [
       "(11, 1600)"
      ]
     },
     "metadata": {},
     "execution_count": 50
    }
   ],
   "metadata": {}
  },
  {
   "cell_type": "markdown",
   "source": [
    "## Tupla de objetos e lista de tuplas"
   ],
   "metadata": {}
  },
  {
   "cell_type": "code",
   "execution_count": 51,
   "source": [
    "# Criando uma lista de tuplas\r\n",
    "usuarios = [amanda, joao]\r\n",
    "usuarios"
   ],
   "outputs": [
    {
     "output_type": "execute_result",
     "data": {
      "text/plain": [
       "[('Amanda', 24, 1997), ('João', 19, 2002)]"
      ]
     },
     "metadata": {},
     "execution_count": 51
    }
   ],
   "metadata": {}
  },
  {
   "cell_type": "code",
   "execution_count": 52,
   "source": [
    "usuarios.append(('Paulo', 60, 1961))\r\n",
    "usuarios"
   ],
   "outputs": [
    {
     "output_type": "execute_result",
     "data": {
      "text/plain": [
       "[('Amanda', 24, 1997), ('João', 19, 2002), ('Paulo', 60, 1961)]"
      ]
     },
     "metadata": {},
     "execution_count": 52
    }
   ],
   "metadata": {}
  },
  {
   "cell_type": "markdown",
   "source": [
    "Por ser uma tupla, não consigo alterar as informações de cada usuário"
   ],
   "metadata": {}
  },
  {
   "cell_type": "code",
   "execution_count": 53,
   "source": [
    "# Criando uma tupla de objetos\r\n",
    "conta_amanda = ContaCorrente(15)\r\n",
    "conta_amanda.deposita(1200)\r\n",
    "conta_joao = ContaCorrente(34)\r\n",
    "conta_joao.deposita(1000)\r\n",
    "\r\n",
    "contas = (conta_amanda, conta_joao)"
   ],
   "outputs": [],
   "metadata": {}
  },
  {
   "cell_type": "code",
   "execution_count": 54,
   "source": [
    "for conta in contas:\r\n",
    "    print(conta)"
   ],
   "outputs": [
    {
     "output_type": "stream",
     "name": "stdout",
     "text": [
      "[>>Código 15 - Saldo 1200 reais]\n",
      "[>>Código 34 - Saldo 1000 reais]\n"
     ]
    }
   ],
   "metadata": {}
  },
  {
   "cell_type": "code",
   "execution_count": 55,
   "source": [
    "contas[0].deposita(1000)\r\n",
    "for conta in contas:\r\n",
    "    print(conta)"
   ],
   "outputs": [
    {
     "output_type": "stream",
     "name": "stdout",
     "text": [
      "[>>Código 15 - Saldo 2200 reais]\n",
      "[>>Código 34 - Saldo 1000 reais]\n"
     ]
    }
   ],
   "metadata": {}
  }
 ]
}