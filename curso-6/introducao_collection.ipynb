{
 "metadata": {
  "language_info": {
   "codemirror_mode": {
    "name": "ipython",
    "version": 3
   },
   "file_extension": ".py",
   "mimetype": "text/x-python",
   "name": "python",
   "nbconvert_exporter": "python",
   "pygments_lexer": "ipython3",
   "version": "3.9.1"
  },
  "orig_nbformat": 4,
  "kernelspec": {
   "name": "python3",
   "display_name": "Python 3.9.1 64-bit"
  },
  "interpreter": {
   "hash": "3789ce4c8ffd8c8663c5e97641d2be39eb5d0b72366e8e097470db3e1bd1cf2d"
  }
 },
 "nbformat": 4,
 "nbformat_minor": 2,
 "cells": [
  {
   "source": [
    "# Introdução a Collections"
   ],
   "cell_type": "markdown",
   "metadata": {}
  },
  {
   "cell_type": "code",
   "execution_count": null,
   "metadata": {},
   "outputs": [],
   "source": [
    "idade1 = 32\n",
    "idade2 = 45\n",
    "idade3 = 21\n",
    "idade4 = 15\n",
    "\n",
    "print(idade1)\n",
    "print(idade2)\n",
    "print(idade3)\n",
    "print(idade4)"
   ]
  },
  {
   "cell_type": "code",
   "execution_count": null,
   "metadata": {},
   "outputs": [],
   "source": [
    "# Lista: implementação de uma ideia de sequência de acesso aleatório\n",
    "idades = [32, 45, 21, 14]\n",
    "type(idades)"
   ]
  },
  {
   "cell_type": "code",
   "execution_count": null,
   "metadata": {},
   "outputs": [],
   "source": [
    "len(idades)"
   ]
  },
  {
   "cell_type": "code",
   "execution_count": null,
   "metadata": {},
   "outputs": [],
   "source": [
    "idades[2]"
   ]
  },
  {
   "cell_type": "code",
   "execution_count": null,
   "metadata": {},
   "outputs": [],
   "source": [
    "idades"
   ]
  },
  {
   "cell_type": "code",
   "execution_count": null,
   "metadata": {},
   "outputs": [],
   "source": [
    "# Adicionar valores no final da lista\n",
    "idades.append(10)"
   ]
  },
  {
   "cell_type": "code",
   "execution_count": null,
   "metadata": {},
   "outputs": [],
   "source": [
    "idades"
   ]
  },
  {
   "cell_type": "code",
   "execution_count": null,
   "metadata": {},
   "outputs": [],
   "source": [
    "for idade in idades:\n",
    "    print(idade)"
   ]
  },
  {
   "cell_type": "code",
   "execution_count": null,
   "metadata": {},
   "outputs": [],
   "source": [
    "# Remover um elemento da lista\n",
    "idades.remove(45)"
   ]
  },
  {
   "cell_type": "code",
   "execution_count": null,
   "metadata": {},
   "outputs": [],
   "source": [
    "idades"
   ]
  },
  {
   "cell_type": "code",
   "execution_count": null,
   "metadata": {},
   "outputs": [],
   "source": [
    "# Se existem dois elemtenos com o mesmo valor, é removido aquele que aparece primeiro\n",
    "idades.append(14)\n",
    "idades"
   ]
  },
  {
   "cell_type": "code",
   "execution_count": null,
   "metadata": {},
   "outputs": [],
   "source": [
    "idades.remove(14)"
   ]
  },
  {
   "cell_type": "code",
   "execution_count": null,
   "metadata": {},
   "outputs": [],
   "source": [
    "idades"
   ]
  },
  {
   "cell_type": "code",
   "execution_count": null,
   "metadata": {},
   "outputs": [],
   "source": [
    "# Verificar se o elemento está na lista\n",
    "32 in idades"
   ]
  },
  {
   "cell_type": "code",
   "execution_count": null,
   "metadata": {},
   "outputs": [],
   "source": [
    "15 in idades"
   ]
  },
  {
   "cell_type": "code",
   "execution_count": null,
   "metadata": {},
   "outputs": [],
   "source": [
    "if 15 in idades:\n",
    "    idades.remove(15)"
   ]
  },
  {
   "cell_type": "code",
   "execution_count": null,
   "metadata": {},
   "outputs": [],
   "source": [
    "if 32 in idades:\n",
    "    idades.remove(32)"
   ]
  },
  {
   "cell_type": "code",
   "execution_count": null,
   "metadata": {},
   "outputs": [],
   "source": [
    "idades"
   ]
  },
  {
   "cell_type": "code",
   "execution_count": null,
   "metadata": {},
   "outputs": [],
   "source": [
    "# Inserir um item em uma posição específica\n",
    "idades.insert(0, 30)\n",
    "idades"
   ]
  },
  {
   "cell_type": "code",
   "execution_count": null,
   "metadata": {},
   "outputs": [],
   "source": [
    "# Adicionar vários valores\n",
    "idades.extend([19, 54])\n",
    "idades"
   ]
  },
  {
   "cell_type": "code",
   "execution_count": null,
   "metadata": {},
   "outputs": [],
   "source": [
    "idades_no_ano_que_vem = []\n",
    "for idade in idades:\n",
    "    idades_no_ano_que_vem.append(idade+1)\n",
    "idades_no_ano_que_vem"
   ]
  },
  {
   "cell_type": "code",
   "execution_count": null,
   "metadata": {},
   "outputs": [],
   "source": [
    "# Outra sintaxe com a mesma finalidade\n",
    "idades_no_ano_que_vem = [(idade+1) for idade in idades]\n",
    "idades_no_ano_que_vem"
   ]
  },
  {
   "cell_type": "code",
   "execution_count": null,
   "metadata": {},
   "outputs": [],
   "source": [
    "# Filtros\n",
    "[(idade) for idade in idades if idade > 21]"
   ]
  },
  {
   "cell_type": "code",
   "execution_count": null,
   "metadata": {},
   "outputs": [],
   "source": [
    "def proximo_ano(idade):\n",
    "    return idade+1\n",
    "\n",
    "[proximo_ano(idade) for idade in idades if idade > 21]"
   ]
  },
  {
   "source": [
    "## Problemas  da mutabilidade da lista"
   ],
   "cell_type": "markdown",
   "metadata": {}
  },
  {
   "cell_type": "code",
   "execution_count": null,
   "metadata": {},
   "outputs": [],
   "source": [
    "def faz_processamento_de_visualizacao(lista):\n",
    "    print(len(lista))"
   ]
  },
  {
   "cell_type": "code",
   "execution_count": null,
   "metadata": {},
   "outputs": [],
   "source": [
    "idades = [15, 43, 72, 49]\n",
    "faz_processamento_de_visualizacao(idades)"
   ]
  },
  {
   "cell_type": "code",
   "execution_count": null,
   "metadata": {},
   "outputs": [],
   "source": [
    "# No momento em que eu paço uma lista, que é um objeto mutável, como parâmetro, eu perco o controle dessa lista"
   ]
  },
  {
   "cell_type": "code",
   "execution_count": null,
   "metadata": {},
   "outputs": [],
   "source": [
    "def faz_processamento_de_visualizacao(lista = []):\n",
    "    print(len(lista))\n",
    "    print(lista)\n",
    "    lista.append(13)"
   ]
  },
  {
   "cell_type": "code",
   "execution_count": null,
   "metadata": {},
   "outputs": [],
   "source": [
    "    faz_processamento_de_visualizacao()"
   ]
  },
  {
   "cell_type": "code",
   "execution_count": null,
   "metadata": {},
   "outputs": [],
   "source": [
    "    faz_processamento_de_visualizacao()"
   ]
  },
  {
   "cell_type": "code",
   "execution_count": null,
   "metadata": {},
   "outputs": [],
   "source": [
    "    faz_processamento_de_visualizacao()"
   ]
  },
  {
   "cell_type": "code",
   "execution_count": null,
   "metadata": {},
   "outputs": [],
   "source": [
    "# Se eu quisesse manter o valor estável:\n",
    "def faz_processamento_de_visualizacao(lista = None):\n",
    "    if lista == None:\n",
    "        lista = list()\n",
    "    print(len(lista))\n",
    "    print(lista)\n",
    "    lista.append(13)"
   ]
  },
  {
   "cell_type": "code",
   "execution_count": null,
   "metadata": {},
   "outputs": [],
   "source": [
    "faz_processamento_de_visualizacao()"
   ]
  },
  {
   "cell_type": "code",
   "execution_count": null,
   "metadata": {},
   "outputs": [],
   "source": [
    "faz_processamento_de_visualizacao()\n"
   ]
  },
  {
   "source": [
    "## Listas com objetos de classes nossas"
   ],
   "cell_type": "markdown",
   "metadata": {}
  },
  {
   "source": [
    "class ContaCorrente:\n",
    "    def __init__(self, codigo):\n",
    "        self.codigo = codigo\n",
    "        self.saldo = 0\n",
    "\n",
    "    def deposita(self, valor):\n",
    "        self.saldo += valor\n",
    "\n",
    "    def __str__(self):\n",
    "        return \"[>>Código {} - Saldo {} reais]\".format(self.codigo, self.saldo)"
   ],
   "cell_type": "code",
   "metadata": {},
   "execution_count": 149,
   "outputs": []
  },
  {
   "cell_type": "code",
   "execution_count": 150,
   "metadata": {},
   "outputs": [
    {
     "output_type": "stream",
     "name": "stdout",
     "text": [
      "[>>Código 11 - Saldo 0 reais]\n"
     ]
    }
   ],
   "source": [
    "conta_amanda = ContaCorrente(11)\n",
    "print(conta_amanda)"
   ]
  },
  {
   "cell_type": "code",
   "execution_count": 151,
   "metadata": {},
   "outputs": [
    {
     "output_type": "stream",
     "name": "stdout",
     "text": [
      "[>>Código 11 - Saldo 100 reais]\n"
     ]
    }
   ],
   "source": [
    "conta_amanda.deposita(100)\n",
    "print(conta_amanda)"
   ]
  },
  {
   "cell_type": "code",
   "execution_count": 152,
   "metadata": {},
   "outputs": [
    {
     "output_type": "stream",
     "name": "stdout",
     "text": [
      "[>>Código 222 - Saldo 1000 reais]\n"
     ]
    }
   ],
   "source": [
    "conta_joao = ContaCorrente(222)\n",
    "conta_joao.deposita(1000)\n",
    "print(conta_joao)"
   ]
  },
  {
   "cell_type": "code",
   "execution_count": 153,
   "metadata": {},
   "outputs": [
    {
     "output_type": "stream",
     "name": "stdout",
     "text": [
      "[<__main__.ContaCorrente object at 0x000001F125C244F0>, <__main__.ContaCorrente object at 0x000001F125C4E460>]\n"
     ]
    }
   ],
   "source": [
    "contas = [conta_amanda, conta_joao]\n",
    "print(contas)\n",
    "# Não chama por padrão o método __str__"
   ]
  },
  {
   "cell_type": "code",
   "execution_count": 154,
   "metadata": {},
   "outputs": [
    {
     "output_type": "stream",
     "name": "stdout",
     "text": [
      "[>>Código 11 - Saldo 100 reais]\n[>>Código 222 - Saldo 1000 reais]\n"
     ]
    }
   ],
   "source": [
    "for conta in contas:\n",
    "    print(conta)"
   ]
  },
  {
   "cell_type": "code",
   "execution_count": 155,
   "metadata": {},
   "outputs": [
    {
     "output_type": "stream",
     "name": "stdout",
     "text": [
      "[>>Código 11 - Saldo 100 reais]\n"
     ]
    }
   ],
   "source": [
    "# A conta do João é referenciada pela variável conta_joao\n",
    "# No momento que eu crio uma lista onde tenho um array  com a variável, não estou criando objetos novos\n",
    "# Só estou referenciando aquele objeto que já existia\n",
    "contas = [conta_amanda, conta_joao, conta_amanda]\n",
    "print(contas[0])"
   ]
  },
  {
   "cell_type": "code",
   "execution_count": 156,
   "metadata": {},
   "outputs": [
    {
     "output_type": "stream",
     "name": "stdout",
     "text": [
      "[>>Código 11 - Saldo 100 reais]\n"
     ]
    }
   ],
   "source": [
    "print(contas[2])"
   ]
  },
  {
   "source": [
    "## Tuplas, objetos e anemia"
   ],
   "cell_type": "markdown",
   "metadata": {}
  },
  {
   "cell_type": "code",
   "execution_count": 157,
   "metadata": {},
   "outputs": [
    {
     "output_type": "stream",
     "name": "stdout",
     "text": [
      "[>>Código 11 - Saldo 100 reais] [>>Código 222 - Saldo 1000 reais]\n[>>Código 11 - Saldo 200 reais] [>>Código 222 - Saldo 1100 reais]\n"
     ]
    }
   ],
   "source": [
    "def deposita_para_todas_as_contas(contas):\n",
    "    for conta in contas:\n",
    "        conta.deposita(100)\n",
    "\n",
    "contas = [conta_amanda, conta_joao]\n",
    "print(contas[0], contas[1])\n",
    "deposita_para_todas_as_contas(contas)\n",
    "\n",
    "print(contas[0], contas[1])"
   ]
  },
  {
   "cell_type": "code",
   "execution_count": 158,
   "metadata": {},
   "outputs": [
    {
     "output_type": "stream",
     "name": "stdout",
     "text": [
      "76 [>>Código 11 - Saldo 200 reais] [>>Código 222 - Saldo 1100 reais]\n"
     ]
    }
   ],
   "source": [
    "# Adicionando o número da agência da conta\n",
    "contas.insert(0, 76)\n",
    "print(contas[0], contas[1], contas[2])"
   ]
  },
  {
   "source": [
    "Quando queremos trabalhar com posições específicas que verificam coisas diferentes (possivelmente tipos diferentes)  e imutável-> usamos tuplas.\n",
    "É comum que quando você tem uma complexidade maior no conjunto de valores, essa tupla vire uma classe."
   ],
   "cell_type": "markdown",
   "metadata": {}
  },
  {
   "cell_type": "code",
   "execution_count": 159,
   "metadata": {},
   "outputs": [],
   "source": [
    "amanda = ('Amanda', 24, 1997)\n",
    "joao = ('João', 19, 2002)\n",
    "# Como é imutável, não possui o método append, por exemplo"
   ]
  },
  {
   "cell_type": "code",
   "execution_count": 160,
   "metadata": {},
   "outputs": [
    {
     "output_type": "execute_result",
     "data": {
      "text/plain": [
       "1500"
      ]
     },
     "metadata": {},
     "execution_count": 160
    }
   ],
   "source": [
    "conta_amanda = (11, 1500)\n",
    "conta_amanda[1]"
   ]
  },
  {
   "cell_type": "code",
   "execution_count": 161,
   "metadata": {},
   "outputs": [],
   "source": [
    "# Para alterar o valor na tupla\n",
    "def deposita(conta):\n",
    "    novo_saldo = conta[1] + 100\n",
    "    codigo = conta[0]\n",
    "    return (codigo, novo_saldo) # retorno de uma nova tupla"
   ]
  },
  {
   "cell_type": "code",
   "execution_count": 162,
   "metadata": {},
   "outputs": [
    {
     "output_type": "execute_result",
     "data": {
      "text/plain": [
       "(11, 1600)"
      ]
     },
     "metadata": {},
     "execution_count": 162
    }
   ],
   "source": [
    "deposita(conta_amanda)"
   ]
  },
  {
   "cell_type": "code",
   "execution_count": 163,
   "metadata": {},
   "outputs": [
    {
     "output_type": "execute_result",
     "data": {
      "text/plain": [
       "(11, 1500)"
      ]
     },
     "metadata": {},
     "execution_count": 163
    }
   ],
   "source": [
    "conta_amanda"
   ]
  },
  {
   "cell_type": "code",
   "execution_count": 164,
   "metadata": {},
   "outputs": [
    {
     "output_type": "execute_result",
     "data": {
      "text/plain": [
       "(11, 1600)"
      ]
     },
     "metadata": {},
     "execution_count": 164
    }
   ],
   "source": [
    "conta_amanda = deposita(conta_amanda)\n",
    "conta_amanda"
   ]
  }
 ]
}