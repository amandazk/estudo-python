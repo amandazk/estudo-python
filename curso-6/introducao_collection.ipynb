{
 "metadata": {
  "language_info": {
   "codemirror_mode": {
    "name": "ipython",
    "version": 3
   },
   "file_extension": ".py",
   "mimetype": "text/x-python",
   "name": "python",
   "nbconvert_exporter": "python",
   "pygments_lexer": "ipython3",
   "version": "3.9.1"
  },
  "orig_nbformat": 4,
  "kernelspec": {
   "name": "python3",
   "display_name": "Python 3.9.1 64-bit"
  },
  "interpreter": {
   "hash": "3789ce4c8ffd8c8663c5e97641d2be39eb5d0b72366e8e097470db3e1bd1cf2d"
  }
 },
 "nbformat": 4,
 "nbformat_minor": 2,
 "cells": [
  {
   "source": [
    "# Introdução a Collections"
   ],
   "cell_type": "markdown",
   "metadata": {}
  },
  {
   "cell_type": "code",
   "execution_count": 25,
   "metadata": {},
   "outputs": [
    {
     "output_type": "stream",
     "name": "stdout",
     "text": [
      "32\n45\n21\n15\n"
     ]
    }
   ],
   "source": [
    "idade1 = 32\n",
    "idade2 = 45\n",
    "idade3 = 21\n",
    "idade4 = 15\n",
    "\n",
    "print(idade1)\n",
    "print(idade2)\n",
    "print(idade3)\n",
    "print(idade4)"
   ]
  },
  {
   "cell_type": "code",
   "execution_count": 26,
   "metadata": {},
   "outputs": [
    {
     "output_type": "execute_result",
     "data": {
      "text/plain": [
       "list"
      ]
     },
     "metadata": {},
     "execution_count": 26
    }
   ],
   "source": [
    "# Lista: implementação de uma ideia de sequência de acesso aleatório\n",
    "idades = [32, 45, 21, 14]\n",
    "type(idades)"
   ]
  },
  {
   "cell_type": "code",
   "execution_count": 27,
   "metadata": {},
   "outputs": [
    {
     "output_type": "execute_result",
     "data": {
      "text/plain": [
       "4"
      ]
     },
     "metadata": {},
     "execution_count": 27
    }
   ],
   "source": [
    "len(idades)"
   ]
  },
  {
   "cell_type": "code",
   "execution_count": 28,
   "metadata": {},
   "outputs": [
    {
     "output_type": "execute_result",
     "data": {
      "text/plain": [
       "21"
      ]
     },
     "metadata": {},
     "execution_count": 28
    }
   ],
   "source": [
    "idades[2]"
   ]
  },
  {
   "cell_type": "code",
   "execution_count": 29,
   "metadata": {},
   "outputs": [
    {
     "output_type": "execute_result",
     "data": {
      "text/plain": [
       "[32, 45, 21, 14]"
      ]
     },
     "metadata": {},
     "execution_count": 29
    }
   ],
   "source": [
    "idades"
   ]
  },
  {
   "cell_type": "code",
   "execution_count": 30,
   "metadata": {},
   "outputs": [],
   "source": [
    "# Adicionar valores no final da lista\n",
    "idades.append(10)"
   ]
  },
  {
   "cell_type": "code",
   "execution_count": 31,
   "metadata": {},
   "outputs": [
    {
     "output_type": "execute_result",
     "data": {
      "text/plain": [
       "[32, 45, 21, 14, 10]"
      ]
     },
     "metadata": {},
     "execution_count": 31
    }
   ],
   "source": [
    "idades"
   ]
  },
  {
   "cell_type": "code",
   "execution_count": 32,
   "metadata": {},
   "outputs": [
    {
     "output_type": "stream",
     "name": "stdout",
     "text": [
      "32\n45\n21\n14\n10\n"
     ]
    }
   ],
   "source": [
    "for idade in idades:\n",
    "    print(idade)"
   ]
  },
  {
   "cell_type": "code",
   "execution_count": 33,
   "metadata": {},
   "outputs": [],
   "source": [
    "# Remover um elemento da lista\n",
    "idades.remove(45)"
   ]
  },
  {
   "cell_type": "code",
   "execution_count": 34,
   "metadata": {},
   "outputs": [
    {
     "output_type": "execute_result",
     "data": {
      "text/plain": [
       "[32, 21, 14, 10]"
      ]
     },
     "metadata": {},
     "execution_count": 34
    }
   ],
   "source": [
    "idades"
   ]
  },
  {
   "cell_type": "code",
   "execution_count": 35,
   "metadata": {},
   "outputs": [
    {
     "output_type": "execute_result",
     "data": {
      "text/plain": [
       "[32, 21, 14, 10, 14]"
      ]
     },
     "metadata": {},
     "execution_count": 35
    }
   ],
   "source": [
    "# Se existem dois elemtenos com o mesmo valor, é removido aquele que aparece primeiro\n",
    "idades.append(14)\n",
    "idades"
   ]
  },
  {
   "cell_type": "code",
   "execution_count": 37,
   "metadata": {},
   "outputs": [],
   "source": [
    "idades.remove(14)"
   ]
  },
  {
   "cell_type": "code",
   "execution_count": 38,
   "metadata": {},
   "outputs": [
    {
     "output_type": "execute_result",
     "data": {
      "text/plain": [
       "[32, 21, 10, 14]"
      ]
     },
     "metadata": {},
     "execution_count": 38
    }
   ],
   "source": [
    "idades"
   ]
  },
  {
   "cell_type": "code",
   "execution_count": 40,
   "metadata": {},
   "outputs": [
    {
     "output_type": "execute_result",
     "data": {
      "text/plain": [
       "True"
      ]
     },
     "metadata": {},
     "execution_count": 40
    }
   ],
   "source": [
    "# Verificar se o elemento está na lista\n",
    "32 in idades"
   ]
  },
  {
   "cell_type": "code",
   "execution_count": 41,
   "metadata": {},
   "outputs": [
    {
     "output_type": "execute_result",
     "data": {
      "text/plain": [
       "False"
      ]
     },
     "metadata": {},
     "execution_count": 41
    }
   ],
   "source": [
    "15 in idades"
   ]
  },
  {
   "cell_type": "code",
   "execution_count": 42,
   "metadata": {},
   "outputs": [],
   "source": [
    "if 15 in idades:\n",
    "    idades.remove(15)"
   ]
  },
  {
   "cell_type": "code",
   "execution_count": 43,
   "metadata": {},
   "outputs": [],
   "source": [
    "if 32 in idades:\n",
    "    idades.remove(32)"
   ]
  },
  {
   "cell_type": "code",
   "execution_count": 44,
   "metadata": {},
   "outputs": [
    {
     "output_type": "execute_result",
     "data": {
      "text/plain": [
       "[21, 10, 14]"
      ]
     },
     "metadata": {},
     "execution_count": 44
    }
   ],
   "source": [
    "idades"
   ]
  },
  {
   "cell_type": "code",
   "execution_count": 45,
   "metadata": {},
   "outputs": [
    {
     "output_type": "execute_result",
     "data": {
      "text/plain": [
       "[30, 21, 10, 14]"
      ]
     },
     "metadata": {},
     "execution_count": 45
    }
   ],
   "source": [
    "# Inserir um item em uma posição específica\n",
    "idades.insert(0, 30)\n",
    "idades"
   ]
  },
  {
   "cell_type": "code",
   "execution_count": 46,
   "metadata": {},
   "outputs": [
    {
     "output_type": "execute_result",
     "data": {
      "text/plain": [
       "[30, 21, 10, 14, 19, 54]"
      ]
     },
     "metadata": {},
     "execution_count": 46
    }
   ],
   "source": [
    "# Adicionar vários valores\n",
    "idades.extend([19, 54])\n",
    "idades"
   ]
  },
  {
   "cell_type": "code",
   "execution_count": 47,
   "metadata": {},
   "outputs": [
    {
     "output_type": "execute_result",
     "data": {
      "text/plain": [
       "[31, 22, 11, 15, 20, 55]"
      ]
     },
     "metadata": {},
     "execution_count": 47
    }
   ],
   "source": [
    "idades_no_ano_que_vem = []\n",
    "for idade in idades:\n",
    "    idades_no_ano_que_vem.append(idade+1)\n",
    "idades_no_ano_que_vem"
   ]
  },
  {
   "cell_type": "code",
   "execution_count": 49,
   "metadata": {},
   "outputs": [
    {
     "output_type": "execute_result",
     "data": {
      "text/plain": [
       "[31, 22, 11, 15, 20, 55]"
      ]
     },
     "metadata": {},
     "execution_count": 49
    }
   ],
   "source": [
    "# Outra sintaxe com a mesma finalidade\n",
    "idades_no_ano_que_vem = [(idade+1) for idade in idades]\n",
    "idades_no_ano_que_vem"
   ]
  },
  {
   "cell_type": "code",
   "execution_count": 50,
   "metadata": {},
   "outputs": [
    {
     "output_type": "execute_result",
     "data": {
      "text/plain": [
       "[30, 54]"
      ]
     },
     "metadata": {},
     "execution_count": 50
    }
   ],
   "source": [
    "# Filtros\n",
    "[(idade) for idade in idades if idade > 21]"
   ]
  },
  {
   "cell_type": "code",
   "execution_count": 52,
   "metadata": {},
   "outputs": [
    {
     "output_type": "execute_result",
     "data": {
      "text/plain": [
       "[31, 55]"
      ]
     },
     "metadata": {},
     "execution_count": 52
    }
   ],
   "source": [
    "def proximo_ano(idade):\n",
    "    return idade+1\n",
    "\n",
    "[proximo_ano(idade) for idade in idades if idade > 21]"
   ]
  },
  {
   "source": [
    "### Problemas  da mutabilidade da lista"
   ],
   "cell_type": "markdown",
   "metadata": {}
  },
  {
   "cell_type": "code",
   "execution_count": 53,
   "metadata": {},
   "outputs": [],
   "source": [
    "def faz_processamento_de_visualizacao(lista):\n",
    "    print(len(lista))"
   ]
  },
  {
   "cell_type": "code",
   "execution_count": 54,
   "metadata": {},
   "outputs": [
    {
     "output_type": "stream",
     "name": "stdout",
     "text": [
      "4\n"
     ]
    }
   ],
   "source": [
    "idades = [15, 43, 72, 49]\n",
    "faz_processamento_de_visualizacao(idades)"
   ]
  },
  {
   "cell_type": "code",
   "execution_count": 55,
   "metadata": {},
   "outputs": [],
   "source": [
    "# No momento em que eu paço uma lista, que é um objeto mutável, como parâmetro, eu perco o controle dessa lista"
   ]
  },
  {
   "cell_type": "code",
   "execution_count": 56,
   "metadata": {},
   "outputs": [],
   "source": [
    "def faz_processamento_de_visualizacao(lista = []):\n",
    "    print(len(lista))\n",
    "    print(lista)\n",
    "    lista.append(13)"
   ]
  },
  {
   "cell_type": "code",
   "execution_count": 57,
   "metadata": {},
   "outputs": [
    {
     "output_type": "stream",
     "name": "stdout",
     "text": [
      "0\n"
     ]
    }
   ],
   "source": [
    "    faz_processamento_de_visualizacao()"
   ]
  },
  {
   "cell_type": "code",
   "execution_count": 58,
   "metadata": {},
   "outputs": [
    {
     "output_type": "stream",
     "name": "stdout",
     "text": [
      "1\n"
     ]
    }
   ],
   "source": [
    "    faz_processamento_de_visualizacao()"
   ]
  },
  {
   "cell_type": "code",
   "execution_count": 59,
   "metadata": {},
   "outputs": [
    {
     "output_type": "stream",
     "name": "stdout",
     "text": [
      "2\n"
     ]
    }
   ],
   "source": [
    "    faz_processamento_de_visualizacao()"
   ]
  },
  {
   "cell_type": "code",
   "execution_count": 60,
   "metadata": {},
   "outputs": [],
   "source": [
    "# Se eu quisesse manter o valor estável:\n",
    "def faz_processamento_de_visualizacao(lista = None):\n",
    "    if lista == None:\n",
    "        lista = list()\n",
    "    print(len(lista))\n",
    "    print(lista)\n",
    "    lista.append(13)"
   ]
  },
  {
   "cell_type": "code",
   "execution_count": 61,
   "metadata": {},
   "outputs": [
    {
     "output_type": "stream",
     "name": "stdout",
     "text": [
      "0\n[]\n"
     ]
    }
   ],
   "source": [
    "faz_processamento_de_visualizacao()"
   ]
  },
  {
   "cell_type": "code",
   "execution_count": 62,
   "metadata": {},
   "outputs": [
    {
     "output_type": "stream",
     "name": "stdout",
     "text": [
      "0\n[]\n"
     ]
    }
   ],
   "source": [
    "faz_processamento_de_visualizacao()\n"
   ]
  }
 ]
}