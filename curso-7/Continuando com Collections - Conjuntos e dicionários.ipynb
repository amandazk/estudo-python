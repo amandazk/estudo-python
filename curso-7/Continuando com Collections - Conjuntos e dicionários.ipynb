{
 "cells": [
  {
   "cell_type": "markdown",
   "metadata": {},
   "source": [
    "## Trabalhando com conjuntos, os sets"
   ]
  },
  {
   "cell_type": "code",
   "execution_count": 5,
   "metadata": {},
   "outputs": [],
   "source": [
    "usuarios_time_1 = [12, 24, 37, 41]\n",
    "usuarios_time_2 = [11, 29, 37, 46]"
   ]
  },
  {
   "cell_type": "code",
   "execution_count": 6,
   "metadata": {},
   "outputs": [
    {
     "data": {
      "text/plain": [
       "[12, 24, 37, 41, 11, 29, 37, 46]"
      ]
     },
     "execution_count": 6,
     "metadata": {},
     "output_type": "execute_result"
    }
   ],
   "source": [
    "# Pegar os valores e unir os dois times\n",
    "unidos = usuarios_time_1.copy()\n",
    "unidos.extend(usuarios_time_2)\n",
    "unidos"
   ]
  },
  {
   "cell_type": "code",
   "execution_count": 7,
   "metadata": {},
   "outputs": [
    {
     "data": {
      "text/plain": [
       "8"
      ]
     },
     "execution_count": 7,
     "metadata": {},
     "output_type": "execute_result"
    }
   ],
   "source": [
    "len(unidos)"
   ]
  },
  {
   "cell_type": "code",
   "execution_count": 8,
   "metadata": {},
   "outputs": [
    {
     "data": {
      "text/plain": [
       "{11, 12, 24, 29, 37, 41, 46}"
      ]
     },
     "execution_count": 8,
     "metadata": {},
     "output_type": "execute_result"
    }
   ],
   "source": [
    "# As duas listas possuem um elemento repetido\n",
    "# Quero pegar cada elemento de uma vez\n",
    "# Transformando a lista em um conjunto\n",
    "set(unidos)"
   ]
  },
  {
   "cell_type": "code",
   "execution_count": 9,
   "metadata": {},
   "outputs": [],
   "source": [
    "# Um conjunto é representado por elementos não repetidos"
   ]
  },
  {
   "cell_type": "code",
   "execution_count": 10,
   "metadata": {},
   "outputs": [
    {
     "data": {
      "text/plain": [
       "{1, 2, 3}"
      ]
     },
     "execution_count": 10,
     "metadata": {},
     "output_type": "execute_result"
    }
   ],
   "source": [
    "# Criando um conjunto\n",
    "set([1,2,3])"
   ]
  },
  {
   "cell_type": "code",
   "execution_count": 11,
   "metadata": {},
   "outputs": [
    {
     "data": {
      "text/plain": [
       "{1, 2, 3}"
      ]
     },
     "execution_count": 11,
     "metadata": {},
     "output_type": "execute_result"
    }
   ],
   "source": [
    "set([1,1,2,3,3])"
   ]
  },
  {
   "cell_type": "code",
   "execution_count": 12,
   "metadata": {},
   "outputs": [
    {
     "data": {
      "text/plain": [
       "{1, 2, 3}"
      ]
     },
     "execution_count": 12,
     "metadata": {},
     "output_type": "execute_result"
    }
   ],
   "source": [
    "{1,2,2,3}"
   ]
  },
  {
   "cell_type": "code",
   "execution_count": 13,
   "metadata": {},
   "outputs": [],
   "source": [
    "# Já poderia ter criado os usuários como um conjunto\n",
    "# Já que a ordem que eu adiciono eles não importa\n",
    "# E eu quero que não apareçam números repetidos\n",
    "usuarios_time_1 = {12, 24, 37, 41}\n",
    "usuarios_time_2 = {11, 29, 37, 46}"
   ]
  },
  {
   "cell_type": "code",
   "execution_count": 15,
   "metadata": {},
   "outputs": [
    {
     "ename": "TypeError",
     "evalue": "'set' object is not subscriptable",
     "output_type": "error",
     "traceback": [
      "\u001b[1;31m---------------------------------------------------------------------------\u001b[0m",
      "\u001b[1;31mTypeError\u001b[0m                                 Traceback (most recent call last)",
      "\u001b[1;32m<ipython-input-15-0bc077f8f185>\u001b[0m in \u001b[0;36m<module>\u001b[1;34m\u001b[0m\n\u001b[0;32m      1\u001b[0m \u001b[1;31m# Em conjuntos eu não tenho acesso às posições\u001b[0m\u001b[1;33m\u001b[0m\u001b[1;33m\u001b[0m\u001b[1;33m\u001b[0m\u001b[0m\n\u001b[1;32m----> 2\u001b[1;33m \u001b[0musuarios_time_1\u001b[0m\u001b[1;33m[\u001b[0m\u001b[1;36m2\u001b[0m\u001b[1;33m]\u001b[0m\u001b[1;33m\u001b[0m\u001b[1;33m\u001b[0m\u001b[0m\n\u001b[0m",
      "\u001b[1;31mTypeError\u001b[0m: 'set' object is not subscriptable"
     ]
    }
   ],
   "source": [
    "# Em conjuntos eu não tenho acesso às posições\n",
    "usuarios_time_1[2]"
   ]
  },
  {
   "cell_type": "code",
   "execution_count": 17,
   "metadata": {},
   "outputs": [
    {
     "name": "stdout",
     "output_type": "stream",
     "text": [
      "37\n",
      "41\n",
      "11\n",
      "12\n",
      "46\n",
      "24\n",
      "29\n"
     ]
    }
   ],
   "source": [
    "for usuario in set(unidos):\n",
    "    print(usuario)"
   ]
  },
  {
   "cell_type": "code",
   "execution_count": 18,
   "metadata": {},
   "outputs": [
    {
     "data": {
      "text/plain": [
       "{11, 12, 24, 29, 37, 41, 46}"
      ]
     },
     "execution_count": 18,
     "metadata": {},
     "output_type": "execute_result"
    }
   ],
   "source": [
    "# União de dois conjuntos\n",
    "usuarios_time_1 = {12, 24, 37, 41}\n",
    "usuarios_time_2 = {11, 29, 37, 46}\n",
    "\n",
    "usuarios_time_1 | usuarios_time_2 # um ou outro"
   ]
  },
  {
   "cell_type": "markdown",
   "metadata": {},
   "source": [
    "## Mais operações de conjuntos"
   ]
  },
  {
   "cell_type": "code",
   "execution_count": 19,
   "metadata": {},
   "outputs": [
    {
     "data": {
      "text/plain": [
       "{37}"
      ]
     },
     "execution_count": 19,
     "metadata": {},
     "output_type": "execute_result"
    }
   ],
   "source": [
    "# Intersecção dos conjuntos\n",
    "usuarios_time_1 & usuarios_time_2"
   ]
  },
  {
   "cell_type": "code",
   "execution_count": 20,
   "metadata": {},
   "outputs": [
    {
     "data": {
      "text/plain": [
       "{12, 24, 41}"
      ]
     },
     "execution_count": 20,
     "metadata": {},
     "output_type": "execute_result"
    }
   ],
   "source": [
    "# Quem está no time 1 mas não está no time 2\n",
    "usuarios_time_1 - usuarios_time_2"
   ]
  },
  {
   "cell_type": "code",
   "execution_count": 21,
   "metadata": {},
   "outputs": [
    {
     "data": {
      "text/plain": [
       "True"
      ]
     },
     "execution_count": 21,
     "metadata": {},
     "output_type": "execute_result"
    }
   ],
   "source": [
    "time_1_e_nao_2 = usuarios_time_1 - usuarios_time_2\n",
    "12 in time_1_e_nao_2"
   ]
  },
  {
   "cell_type": "code",
   "execution_count": 22,
   "metadata": {},
   "outputs": [
    {
     "data": {
      "text/plain": [
       "False"
      ]
     },
     "execution_count": 22,
     "metadata": {},
     "output_type": "execute_result"
    }
   ],
   "source": [
    "37 in time_1_e_nao_2"
   ]
  },
  {
   "cell_type": "markdown",
   "metadata": {},
   "source": [
    "## Outro tipo de conjunto e conjuntos de outros tipos"
   ]
  },
  {
   "cell_type": "code",
   "execution_count": 2,
   "metadata": {},
   "outputs": [
    {
     "data": {
      "text/plain": [
       "7"
      ]
     },
     "execution_count": 2,
     "metadata": {},
     "output_type": "execute_result"
    }
   ],
   "source": [
    "usuarios = {1,5,76,34,52,13,17}\n",
    "len(usuarios)"
   ]
  },
  {
   "cell_type": "code",
   "execution_count": 3,
   "metadata": {},
   "outputs": [
    {
     "data": {
      "text/plain": [
       "7"
      ]
     },
     "execution_count": 3,
     "metadata": {},
     "output_type": "execute_result"
    }
   ],
   "source": [
    "usuarios.add(13)\n",
    "len(usuarios)"
   ]
  },
  {
   "cell_type": "code",
   "execution_count": 4,
   "metadata": {},
   "outputs": [
    {
     "data": {
      "text/plain": [
       "8"
      ]
     },
     "execution_count": 4,
     "metadata": {},
     "output_type": "execute_result"
    }
   ],
   "source": [
    "# O comprimento continua o mesmo porque o elemento 13 já estava presente no conjunto \n",
    "usuarios.add(44)\n",
    "len(usuarios)"
   ]
  },
  {
   "cell_type": "code",
   "execution_count": 5,
   "metadata": {},
   "outputs": [
    {
     "data": {
      "text/plain": [
       "{1, 5, 13, 17, 34, 44, 52, 76}"
      ]
     },
     "execution_count": 5,
     "metadata": {},
     "output_type": "execute_result"
    }
   ],
   "source": [
    "usuarios"
   ]
  },
  {
   "cell_type": "code",
   "execution_count": 6,
   "metadata": {},
   "outputs": [
    {
     "data": {
      "text/plain": [
       "frozenset({1, 5, 13, 17, 34, 44, 52, 76})"
      ]
     },
     "execution_count": 6,
     "metadata": {},
     "output_type": "execute_result"
    }
   ],
   "source": [
    "# Usar um conjunto imutável\n",
    "usuarios = frozenset(usuarios)\n",
    "usuarios"
   ]
  },
  {
   "cell_type": "code",
   "execution_count": 7,
   "metadata": {},
   "outputs": [
    {
     "data": {
      "text/plain": [
       "frozenset"
      ]
     },
     "execution_count": 7,
     "metadata": {},
     "output_type": "execute_result"
    }
   ],
   "source": [
    "type(usuarios)"
   ]
  },
  {
   "cell_type": "code",
   "execution_count": 8,
   "metadata": {},
   "outputs": [
    {
     "ename": "AttributeError",
     "evalue": "'frozenset' object has no attribute 'add'",
     "output_type": "error",
     "traceback": [
      "\u001b[1;31m---------------------------------------------------------------------------\u001b[0m",
      "\u001b[1;31mAttributeError\u001b[0m                            Traceback (most recent call last)",
      "\u001b[1;32m<ipython-input-8-9ebf8a7bc6f2>\u001b[0m in \u001b[0;36m<module>\u001b[1;34m\u001b[0m\n\u001b[1;32m----> 1\u001b[1;33m \u001b[0musuarios\u001b[0m\u001b[1;33m.\u001b[0m\u001b[0madd\u001b[0m\u001b[1;33m(\u001b[0m\u001b[1;36m99\u001b[0m\u001b[1;33m)\u001b[0m\u001b[1;33m\u001b[0m\u001b[1;33m\u001b[0m\u001b[0m\n\u001b[0m",
      "\u001b[1;31mAttributeError\u001b[0m: 'frozenset' object has no attribute 'add'"
     ]
    }
   ],
   "source": [
    "usuarios.add(99)"
   ]
  },
  {
   "cell_type": "code",
   "execution_count": 11,
   "metadata": {},
   "outputs": [
    {
     "data": {
      "text/plain": [
       "['Meu',\n",
       " 'nome',\n",
       " 'é',\n",
       " 'Amanda',\n",
       " 'e',\n",
       " 'gosto',\n",
       " 'de',\n",
       " 'cachorros',\n",
       " 'e',\n",
       " 'gosto',\n",
       " 'de',\n",
       " 'livros']"
      ]
     },
     "execution_count": 11,
     "metadata": {},
     "output_type": "execute_result"
    }
   ],
   "source": [
    "meu_texto = \"Meu nome é Amanda e gosto de cachorros e gosto de livros\"\n",
    "meu_texto.split()"
   ]
  },
  {
   "cell_type": "code",
   "execution_count": 12,
   "metadata": {},
   "outputs": [
    {
     "data": {
      "text/plain": [
       "{'Amanda', 'Meu', 'cachorros', 'de', 'e', 'gosto', 'livros', 'nome', 'é'}"
      ]
     },
     "execution_count": 12,
     "metadata": {},
     "output_type": "execute_result"
    }
   ],
   "source": [
    "set(meu_texto.split())"
   ]
  },
  {
   "cell_type": "markdown",
   "metadata": {},
   "source": [
    "## Dicionários (mapa, etc)"
   ]
  },
  {
   "cell_type": "code",
   "execution_count": 13,
   "metadata": {},
   "outputs": [],
   "source": [
    "aparicoes = {\n",
    "    \"Amanda\" : 1,\n",
    "    \"cachorro\" : 1,\n",
    "    \"de\" : 2\n",
    "}"
   ]
  },
  {
   "cell_type": "code",
   "execution_count": 14,
   "metadata": {},
   "outputs": [
    {
     "data": {
      "text/plain": [
       "dict"
      ]
     },
     "execution_count": 14,
     "metadata": {},
     "output_type": "execute_result"
    }
   ],
   "source": [
    "type(aparicoes)"
   ]
  },
  {
   "cell_type": "code",
   "execution_count": 15,
   "metadata": {},
   "outputs": [
    {
     "data": {
      "text/plain": [
       "1"
      ]
     },
     "execution_count": 15,
     "metadata": {},
     "output_type": "execute_result"
    }
   ],
   "source": [
    "aparicoes[\"Amanda\"]"
   ]
  },
  {
   "cell_type": "code",
   "execution_count": 16,
   "metadata": {},
   "outputs": [
    {
     "data": {
      "text/plain": [
       "2"
      ]
     },
     "execution_count": 16,
     "metadata": {},
     "output_type": "execute_result"
    }
   ],
   "source": [
    "aparicoes[\"de\"]"
   ]
  },
  {
   "cell_type": "code",
   "execution_count": 17,
   "metadata": {},
   "outputs": [
    {
     "data": {
      "text/plain": [
       "0"
      ]
     },
     "execution_count": 17,
     "metadata": {},
     "output_type": "execute_result"
    }
   ],
   "source": [
    "# Quero pegar a chave \"opa\". Se não tiver essa chave, me devolve 0\n",
    "aparicoes.get(\"opa\", 0)"
   ]
  },
  {
   "cell_type": "code",
   "execution_count": 18,
   "metadata": {},
   "outputs": [
    {
     "data": {
      "text/plain": [
       "2"
      ]
     },
     "execution_count": 18,
     "metadata": {},
     "output_type": "execute_result"
    }
   ],
   "source": [
    "aparicoes.get(\"de\", 0)"
   ]
  },
  {
   "cell_type": "code",
   "execution_count": 19,
   "metadata": {},
   "outputs": [
    {
     "data": {
      "text/plain": [
       "{'Amanda': 1, 'cachorro': 1, 'de': 2}"
      ]
     },
     "execution_count": 19,
     "metadata": {},
     "output_type": "execute_result"
    }
   ],
   "source": [
    "# Outra forma de iniciar um dicionário\n",
    "aparicoes = dict(Amanda = 1, cachorro = 1, de = 2)\n",
    "aparicoes"
   ]
  },
  {
   "cell_type": "code",
   "execution_count": 20,
   "metadata": {},
   "outputs": [],
   "source": [
    "aparicoes = {\n",
    "    \"Amanda\" : 1,\n",
    "    \"cachorro\" : 1,\n",
    "    \"de\" : 2\n",
    "}"
   ]
  },
  {
   "cell_type": "markdown",
   "metadata": {},
   "source": [
    "## Mais operações de dicionários"
   ]
  },
  {
   "cell_type": "code",
   "execution_count": 21,
   "metadata": {},
   "outputs": [
    {
     "data": {
      "text/plain": [
       "{'Amanda': 1, 'cachorro': 1, 'de': 2, 'Ana': 3}"
      ]
     },
     "execution_count": 21,
     "metadata": {},
     "output_type": "execute_result"
    }
   ],
   "source": [
    "# Adicionar elemento\n",
    "aparicoes[\"Ana\"] = 3\n",
    "aparicoes"
   ]
  },
  {
   "cell_type": "code",
   "execution_count": 23,
   "metadata": {},
   "outputs": [
    {
     "data": {
      "text/plain": [
       "{'Amanda': 1, 'cachorro': 1, 'de': 2, 'Ana': 4}"
      ]
     },
     "execution_count": 23,
     "metadata": {},
     "output_type": "execute_result"
    }
   ],
   "source": [
    "# Substituir um elemento\n",
    "aparicoes[\"Ana\"] = 4\n",
    "aparicoes"
   ]
  },
  {
   "cell_type": "code",
   "execution_count": 24,
   "metadata": {},
   "outputs": [
    {
     "data": {
      "text/plain": [
       "{'Amanda': 1, 'cachorro': 1, 'de': 2}"
      ]
     },
     "execution_count": 24,
     "metadata": {},
     "output_type": "execute_result"
    }
   ],
   "source": [
    "# Remover um elemento\n",
    "del aparicoes[\"Ana\"]\n",
    "aparicoes"
   ]
  },
  {
   "cell_type": "code",
   "execution_count": 25,
   "metadata": {},
   "outputs": [
    {
     "data": {
      "text/plain": [
       "True"
      ]
     },
     "execution_count": 25,
     "metadata": {},
     "output_type": "execute_result"
    }
   ],
   "source": [
    "# Verificar se tem um elemento\n",
    "\"cachorro\" in aparicoes"
   ]
  },
  {
   "cell_type": "code",
   "execution_count": 26,
   "metadata": {},
   "outputs": [
    {
     "data": {
      "text/plain": [
       "False"
      ]
     },
     "execution_count": 26,
     "metadata": {},
     "output_type": "execute_result"
    }
   ],
   "source": [
    "\"dog\" in aparicoes"
   ]
  },
  {
   "cell_type": "code",
   "execution_count": 27,
   "metadata": {},
   "outputs": [
    {
     "name": "stdout",
     "output_type": "stream",
     "text": [
      "Amanda\n",
      "cachorro\n",
      "de\n"
     ]
    }
   ],
   "source": [
    "# Passar pelos elementos\n",
    "for elemento in aparicoes:\n",
    "    print(elemento)"
   ]
  },
  {
   "cell_type": "code",
   "execution_count": 28,
   "metadata": {},
   "outputs": [
    {
     "name": "stdout",
     "output_type": "stream",
     "text": [
      "Amanda\n",
      "cachorro\n",
      "de\n"
     ]
    }
   ],
   "source": [
    "# Passar pelas chaves\n",
    "for elemento in aparicoes.keys():\n",
    "    print(elemento)"
   ]
  },
  {
   "cell_type": "code",
   "execution_count": 29,
   "metadata": {},
   "outputs": [
    {
     "name": "stdout",
     "output_type": "stream",
     "text": [
      "1\n",
      "1\n",
      "2\n"
     ]
    }
   ],
   "source": [
    "# Passar pelos valores\n",
    "for elemento in aparicoes.values():\n",
    "    print(elemento)"
   ]
  },
  {
   "cell_type": "code",
   "execution_count": 31,
   "metadata": {},
   "outputs": [
    {
     "name": "stdout",
     "output_type": "stream",
     "text": [
      "Amanda 1\n",
      "cachorro 1\n",
      "de 2\n"
     ]
    }
   ],
   "source": [
    "# Passar linha a linha\n",
    "for elemento in aparicoes.keys():\n",
    "    valor = aparicoes[elemento]\n",
    "    print(elemento, valor)"
   ]
  },
  {
   "cell_type": "code",
   "execution_count": 32,
   "metadata": {},
   "outputs": [
    {
     "name": "stdout",
     "output_type": "stream",
     "text": [
      "('Amanda', 1)\n",
      "('cachorro', 1)\n",
      "('de', 2)\n"
     ]
    }
   ],
   "source": [
    "for elemento in aparicoes.items():\n",
    "    print(elemento)"
   ]
  },
  {
   "cell_type": "code",
   "execution_count": 33,
   "metadata": {},
   "outputs": [
    {
     "name": "stdout",
     "output_type": "stream",
     "text": [
      "Amanda - 1\n",
      "cachorro - 1\n",
      "de - 2\n"
     ]
    }
   ],
   "source": [
    "for chave, valor in aparicoes.items():\n",
    "    print(chave, \"-\", valor)"
   ]
  },
  {
   "cell_type": "code",
   "execution_count": 34,
   "metadata": {},
   "outputs": [
    {
     "data": {
      "text/plain": [
       "['palavra Amanda', 'palavra cachorro', 'palavra de']"
      ]
     },
     "execution_count": 34,
     "metadata": {},
     "output_type": "execute_result"
    }
   ],
   "source": [
    "[\"palavra {}\".format(chave) for chave in aparicoes.keys()]"
   ]
  },
  {
   "cell_type": "markdown",
   "metadata": {},
   "source": [
    "## Default dict"
   ]
  },
  {
   "cell_type": "code",
   "execution_count": 37,
   "metadata": {},
   "outputs": [
    {
     "data": {
      "text/plain": [
       "['meu',\n",
       " 'nome',\n",
       " 'é',\n",
       " 'amanda',\n",
       " 'e',\n",
       " 'gosto',\n",
       " 'de',\n",
       " 'cachorros',\n",
       " 'e',\n",
       " 'gosto',\n",
       " 'de',\n",
       " 'livros']"
      ]
     },
     "execution_count": 37,
     "metadata": {},
     "output_type": "execute_result"
    }
   ],
   "source": [
    "# Contar o número de aparições de cada palavra no texto\n",
    "meu_texto = \"Meu nome é Amanda e gosto de cachorros e gosto de livros\"\n",
    "meu_texto = meu_texto.lower()\n",
    "meu_texto.split()"
   ]
  },
  {
   "cell_type": "code",
   "execution_count": 38,
   "metadata": {},
   "outputs": [
    {
     "data": {
      "text/plain": [
       "{'meu': 1,\n",
       " 'nome': 1,\n",
       " 'é': 1,\n",
       " 'amanda': 1,\n",
       " 'e': 2,\n",
       " 'gosto': 2,\n",
       " 'de': 2,\n",
       " 'cachorros': 1,\n",
       " 'livros': 1}"
      ]
     },
     "execution_count": 38,
     "metadata": {},
     "output_type": "execute_result"
    }
   ],
   "source": [
    "aparicoes = {}\n",
    "\n",
    "for palavra in meu_texto.split(): \n",
    "    ate_agora = aparicoes.get(palavra, 0)\n",
    "    aparicoes[palavra] = ate_agora + 1\n",
    "    \n",
    "aparicoes"
   ]
  },
  {
   "cell_type": "code",
   "execution_count": 39,
   "metadata": {},
   "outputs": [
    {
     "data": {
      "text/plain": [
       "defaultdict(int,\n",
       "            {'meu': 1,\n",
       "             'nome': 1,\n",
       "             'é': 1,\n",
       "             'amanda': 1,\n",
       "             'e': 2,\n",
       "             'gosto': 2,\n",
       "             'de': 2,\n",
       "             'cachorros': 1,\n",
       "             'livros': 1})"
      ]
     },
     "execution_count": 39,
     "metadata": {},
     "output_type": "execute_result"
    }
   ],
   "source": [
    "# Default dict\n",
    "from collections import defaultdict\n",
    "\n",
    "aparicoes = defaultdict(int)\n",
    "\n",
    "for palavra in meu_texto.split(): \n",
    "    ate_agora = aparicoes[palavra]\n",
    "    aparicoes[palavra] = ate_agora + 1\n",
    "    \n",
    "aparicoes"
   ]
  },
  {
   "cell_type": "code",
   "execution_count": 40,
   "metadata": {},
   "outputs": [
    {
     "data": {
      "text/plain": [
       "0"
      ]
     },
     "execution_count": 40,
     "metadata": {},
     "output_type": "execute_result"
    }
   ],
   "source": [
    "# Outro exemplo\n",
    "dicionario = defaultdict(int)\n",
    "dicionario[\"Amanda\"]"
   ]
  },
  {
   "cell_type": "code",
   "execution_count": 41,
   "metadata": {},
   "outputs": [
    {
     "data": {
      "text/plain": [
       "12"
      ]
     },
     "execution_count": 41,
     "metadata": {},
     "output_type": "execute_result"
    }
   ],
   "source": [
    "dicionario[\"Amanda\"] = 12\n",
    "dicionario[\"Amanda\"]"
   ]
  },
  {
   "cell_type": "markdown",
   "metadata": {},
   "source": [
    "## Counter"
   ]
  },
  {
   "cell_type": "code",
   "execution_count": 42,
   "metadata": {},
   "outputs": [
    {
     "data": {
      "text/plain": [
       "defaultdict(int,\n",
       "            {'meu': 1,\n",
       "             'nome': 1,\n",
       "             'é': 1,\n",
       "             'amanda': 1,\n",
       "             'e': 2,\n",
       "             'gosto': 2,\n",
       "             'de': 2,\n",
       "             'cachorros': 1,\n",
       "             'livros': 1})"
      ]
     },
     "execution_count": 42,
     "metadata": {},
     "output_type": "execute_result"
    }
   ],
   "source": [
    "aparicoes = defaultdict(int)\n",
    "\n",
    "for palavra in meu_texto.split(): \n",
    "    aparicoes[palavra] += 1\n",
    "    \n",
    "aparicoes"
   ]
  },
  {
   "cell_type": "code",
   "execution_count": 44,
   "metadata": {},
   "outputs": [],
   "source": [
    "class Conta:\n",
    "    def __init__(self):\n",
    "        print(\"Criando uma conta\")"
   ]
  },
  {
   "cell_type": "code",
   "execution_count": 45,
   "metadata": {},
   "outputs": [],
   "source": [
    "# Toda vez que eu buscar uma conta que não está lá ainda, vai chamar o construtor e criar uma conta nova\n",
    "contas = defaultdict(Conta)"
   ]
  },
  {
   "cell_type": "code",
   "execution_count": 46,
   "metadata": {},
   "outputs": [
    {
     "name": "stdout",
     "output_type": "stream",
     "text": [
      "Criando uma conta\n"
     ]
    },
    {
     "data": {
      "text/plain": [
       "<__main__.Conta at 0x245d9504d00>"
      ]
     },
     "execution_count": 46,
     "metadata": {},
     "output_type": "execute_result"
    }
   ],
   "source": [
    "contas[12]"
   ]
  },
  {
   "cell_type": "code",
   "execution_count": 47,
   "metadata": {},
   "outputs": [
    {
     "data": {
      "text/plain": [
       "Counter({'meu': 1,\n",
       "         'nome': 1,\n",
       "         'é': 1,\n",
       "         'amanda': 1,\n",
       "         'e': 2,\n",
       "         'gosto': 2,\n",
       "         'de': 2,\n",
       "         'cachorros': 1,\n",
       "         'livros': 1})"
      ]
     },
     "execution_count": 47,
     "metadata": {},
     "output_type": "execute_result"
    }
   ],
   "source": [
    "# Counter\n",
    "from collections import Counter\n",
    "\n",
    "aparicoes = Counter()\n",
    "for palavra in meu_texto.split(): \n",
    "    aparicoes[palavra] += 1\n",
    "    \n",
    "aparicoes"
   ]
  },
  {
   "cell_type": "code",
   "execution_count": 48,
   "metadata": {},
   "outputs": [
    {
     "data": {
      "text/plain": [
       "Counter({'meu': 1,\n",
       "         'nome': 1,\n",
       "         'é': 1,\n",
       "         'amanda': 1,\n",
       "         'e': 2,\n",
       "         'gosto': 2,\n",
       "         'de': 2,\n",
       "         'cachorros': 1,\n",
       "         'livros': 1})"
      ]
     },
     "execution_count": 48,
     "metadata": {},
     "output_type": "execute_result"
    }
   ],
   "source": [
    "from collections import Counter\n",
    "\n",
    "aparicoes = Counter(meu_texto.split())\n",
    "aparicoes"
   ]
  },
  {
   "cell_type": "markdown",
   "metadata": {},
   "source": [
    "## Colocando tudo em prática"
   ]
  },
  {
   "cell_type": "code",
   "execution_count": 49,
   "metadata": {},
   "outputs": [],
   "source": [
    "texto_1 = \"\"\"\n",
    "Durante o curso experimente usar uma metodologia ágil como o Scrum em algum projeto de disciplina, \n",
    "faça as dailies, o planejamento das sprints, o review das sprints e você já terá algo pra comentar com o seu entrevistador\n",
    "Você não precisa ser um especialista em desenvolvimento ágil pra conseguir uma vaga de jr, \n",
    "mas mostrar que você conhece o básico, e até mesmo já utilizou, pode ser um plus.\n",
    "\"\"\""
   ]
  },
  {
   "cell_type": "code",
   "execution_count": 50,
   "metadata": {},
   "outputs": [],
   "source": [
    "texto_2 = \"\"\"\n",
    "Não se limite somente a procurar vagas na sua região, o que mais surgiu nessa pandemia foram vagas remotas na área de \n",
    "T.I e eu sugiro fortemente que você tente essas vagas também. Atualmente eu trabalho como desenvolvedor backend jr de \n",
    "forma completamente remota e tem sido uma experiência incrível.\n",
    "\n",
    "Durante o tempo que fiquei procurando vagas eu enviei curriculos e fiz submissões para muitas empresas, muitas mesmo. \n",
    "E tive retorno de várias delas para realizar uma entrevista e para fazer testes práticos. \n",
    "\n",
    "Não tenha medo de entrar em contato com outros programadores para fazer perguntas, geralmente todos respondem de \n",
    "forma amigável.\n",
    "\"\"\""
   ]
  },
  {
   "cell_type": "code",
   "execution_count": 52,
   "metadata": {},
   "outputs": [
    {
     "data": {
      "text/plain": [
       "Counter({'\\n': 5,\n",
       "         'd': 11,\n",
       "         'u': 15,\n",
       "         'r': 22,\n",
       "         'a': 28,\n",
       "         'n': 14,\n",
       "         't': 16,\n",
       "         'e': 37,\n",
       "         ' ': 67,\n",
       "         'o': 32,\n",
       "         'c': 15,\n",
       "         's': 26,\n",
       "         'x': 1,\n",
       "         'p': 12,\n",
       "         'i': 21,\n",
       "         'm': 19,\n",
       "         'l': 12,\n",
       "         'g': 7,\n",
       "         'á': 6,\n",
       "         'j': 5,\n",
       "         ',': 6,\n",
       "         'f': 1,\n",
       "         'ç': 1,\n",
       "         'v': 8,\n",
       "         'w': 1,\n",
       "         'ê': 3,\n",
       "         'ã': 1,\n",
       "         'q': 1,\n",
       "         'h': 1,\n",
       "         'b': 1,\n",
       "         'é': 1,\n",
       "         'z': 1,\n",
       "         '.': 1})"
      ]
     },
     "execution_count": 52,
     "metadata": {},
     "output_type": "execute_result"
    }
   ],
   "source": [
    "# Contar as letras do texto\n",
    "aparicoes = Counter(texto_1.lower())\n",
    "aparicoes"
   ]
  },
  {
   "cell_type": "code",
   "execution_count": 54,
   "metadata": {},
   "outputs": [
    {
     "data": {
      "text/plain": [
       "398"
      ]
     },
     "execution_count": 54,
     "metadata": {},
     "output_type": "execute_result"
    }
   ],
   "source": [
    "# Total de caracteres do texto\n",
    "total_de_caracteres = sum(aparicoes.values())\n",
    "total_de_caracteres"
   ]
  },
  {
   "cell_type": "code",
   "execution_count": 55,
   "metadata": {},
   "outputs": [
    {
     "name": "stdout",
     "output_type": "stream",
     "text": [
      "('\\n', 0.01256281407035176)\n",
      "('d', 0.02763819095477387)\n",
      "('u', 0.03768844221105527)\n",
      "('r', 0.05527638190954774)\n",
      "('a', 0.07035175879396985)\n",
      "('n', 0.035175879396984924)\n",
      "('t', 0.04020100502512563)\n",
      "('e', 0.09296482412060302)\n",
      "(' ', 0.16834170854271358)\n",
      "('o', 0.08040201005025126)\n",
      "('c', 0.03768844221105527)\n",
      "('s', 0.06532663316582915)\n",
      "('x', 0.002512562814070352)\n",
      "('p', 0.03015075376884422)\n",
      "('i', 0.052763819095477386)\n",
      "('m', 0.04773869346733668)\n",
      "('l', 0.03015075376884422)\n",
      "('g', 0.017587939698492462)\n",
      "('á', 0.01507537688442211)\n",
      "('j', 0.01256281407035176)\n",
      "(',', 0.01507537688442211)\n",
      "('f', 0.002512562814070352)\n",
      "('ç', 0.002512562814070352)\n",
      "('v', 0.020100502512562814)\n",
      "('w', 0.002512562814070352)\n",
      "('ê', 0.007537688442211055)\n",
      "('ã', 0.002512562814070352)\n",
      "('q', 0.002512562814070352)\n",
      "('h', 0.002512562814070352)\n",
      "('b', 0.002512562814070352)\n",
      "('é', 0.002512562814070352)\n",
      "('z', 0.002512562814070352)\n",
      "('.', 0.002512562814070352)\n"
     ]
    }
   ],
   "source": [
    "for letra, frequencia in aparicoes.items():\n",
    "    tupla = (letra, frequencia / total_de_caracteres)\n",
    "    print(tupla)"
   ]
  },
  {
   "cell_type": "code",
   "execution_count": 67,
   "metadata": {},
   "outputs": [],
   "source": [
    "def analisa_frequencia_de_letras(texto):\n",
    "    aparicoes = Counter(texto.lower())\n",
    "    total_de_caracteres = sum(aparicoes.values())\n",
    "\n",
    "    proporcoes = [(letra, frequencia / total_de_caracteres)for letra, frequencia in aparicoes.items()]\n",
    "    proporcoes = Counter(dict(proporcoes))\n",
    "    for caractere, proporcao in  proporcoes.most_common(10):\n",
    "        print(\"{} => {:.2f}%\".format(caractere, proporcao * 100))"
   ]
  },
  {
   "cell_type": "code",
   "execution_count": 68,
   "metadata": {},
   "outputs": [
    {
     "name": "stdout",
     "output_type": "stream",
     "text": [
      "  => 16.83%\n",
      "e => 9.30%\n",
      "o => 8.04%\n",
      "a => 7.04%\n",
      "s => 6.53%\n",
      "r => 5.53%\n",
      "i => 5.28%\n",
      "m => 4.77%\n",
      "t => 4.02%\n",
      "u => 3.77%\n"
     ]
    }
   ],
   "source": [
    "analisa_frequencia_de_letras(texto_1)"
   ]
  },
  {
   "cell_type": "code",
   "execution_count": 69,
   "metadata": {},
   "outputs": [
    {
     "name": "stdout",
     "output_type": "stream",
     "text": [
      "  => 15.50%\n",
      "e => 11.78%\n",
      "a => 9.61%\n",
      "r => 7.13%\n",
      "o => 6.36%\n",
      "s => 6.05%\n",
      "t => 5.43%\n",
      "m => 5.12%\n",
      "i => 4.19%\n",
      "n => 4.03%\n"
     ]
    }
   ],
   "source": [
    "analisa_frequencia_de_letras(texto_2)"
   ]
  }
 ],
 "metadata": {
  "kernelspec": {
   "display_name": "Python 3",
   "language": "python",
   "name": "python3"
  },
  "language_info": {
   "codemirror_mode": {
    "name": "ipython",
    "version": 3
   },
   "file_extension": ".py",
   "mimetype": "text/x-python",
   "name": "python",
   "nbconvert_exporter": "python",
   "pygments_lexer": "ipython3",
   "version": "3.8.5"
  }
 },
 "nbformat": 4,
 "nbformat_minor": 4
}
